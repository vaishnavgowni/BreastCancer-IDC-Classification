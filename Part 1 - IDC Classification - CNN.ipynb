{
 "cells": [
  {
   "cell_type": "markdown",
   "metadata": {},
   "source": [
    "# IDC Classification"
   ]
  },
  {
   "cell_type": "markdown",
   "metadata": {},
   "source": [
    "## Table of Contents\n",
    "\n",
    "     1. Business Understanding\n",
    "     2. Data Acquisition\n",
    "     3. Exploratory Data Analysis\n",
    "     4. Modelling\n",
    "     5. Model Evaluation\n",
    "     6. Deployment"
   ]
  },
  {
   "cell_type": "markdown",
   "metadata": {},
   "source": [
    "**Note:**\n",
    "\n",
    "Business Understanding and Data Acquisition are in Part 1 - IDC Classification - CNN notebook. \n",
    "\n",
    "Exploratory Data Analysis, Modelling, Model Evaluation and Deployment are in Part 2 - IDC Classification - CNN notebook. "
   ]
  },
  {
   "cell_type": "markdown",
   "metadata": {},
   "source": [
    "## 1. Business Understanding"
   ]
  },
  {
   "cell_type": "markdown",
   "metadata": {},
   "source": [
    "**Goal:** To detect the cancer:\n",
    "\n",
    "Here, Invasive Ductal Carcinoma (IDC) indicates presence of cancer. \n",
    "\n",
    "**Dataset:** The dataset (the breast cancer histology image dataset) from Biomedcentral and Kaggle. This dataset holds 2,77,524 patches of size 50×50 extracted from 162 whole mount slide images of breast cancer specimens scanned at 40x. Of these, 1,98,738 test negative and 78,786 test positive with IDC.\n",
    "\n",
    "Filenames in this dataset looks like the below:\n",
    "\n",
    "8913_idx5_x751_y1701_class1\n",
    "\n",
    "Here, 8913_idx5 is the patient ID, 751 and 1701 are the x- and y- coordinates of the crop, and 1 is the class label (1 denotes presence of IDC).\n",
    "\n"
   ]
  },
  {
   "cell_type": "markdown",
   "metadata": {},
   "source": [
    "### Data Source\n",
    "\n",
    "https://www.kaggle.com/paultimothymooney/breast-histopathology-images\n",
    "\n",
    "https://bmcresnotes.biomedcentral.com/articles/10.1186/s13104-019-4121-7\n",
    "\n",
    "https://data.mendeley.com/datasets/w7jjcx7gj6/1"
   ]
  },
  {
   "cell_type": "markdown",
   "metadata": {},
   "source": [
    "## 2. Data Acquisition"
   ]
  },
  {
   "cell_type": "markdown",
   "metadata": {},
   "source": [
    "### Importing the Libraries"
   ]
  },
  {
   "cell_type": "markdown",
   "metadata": {},
   "source": [
    "Let's begin by importing the libraries. "
   ]
  },
  {
   "cell_type": "code",
   "execution_count": 1,
   "metadata": {},
   "outputs": [],
   "source": [
    "# Importing the libraries\n",
    "\n",
    "import pandas as pd\n",
    "import numpy as np\n",
    "import os\n",
    "from glob import glob\n",
    "\n",
    "import os\n",
    "import imageio\n",
    "import skimage\n",
    "import skimage.io\n",
    "import skimage.transform\n",
    "\n",
    "from sklearn.utils import shuffle\n",
    "from sklearn.metrics import confusion_matrix\n",
    "from sklearn.model_selection import train_test_split\n",
    "import itertools\n",
    "import shutil\n",
    "import matplotlib.pyplot as plt\n",
    "\n",
    "from matplotlib.pyplot import imread # This will allow us to read the image files directly"
   ]
  },
  {
   "cell_type": "code",
   "execution_count": 2,
   "metadata": {},
   "outputs": [],
   "source": [
    "# Master folder that contains the downloaded images\n",
    "data_dir = r'C:\\Users\\user1\\Desktop\\WIP\\IDC_regular_ps50_idx5'"
   ]
  },
  {
   "attachments": {
    "2020-06-28_18-43-28.png": {
     "image/png": "[encoded data removed]"
    },
    "2020-06-28_18-44-11.png": {
     "image/png": "[encoded data removed]"
    }
   },
   "cell_type": "markdown",
   "metadata": {},
   "source": [
    "Here, our data is not in the right format. All the images are in the a folder denoted by patient and there are mutiple sub-folders denoted by the class. Please see below:\n",
    "\n",
    "![2020-06-28_18-43-28.png](attachment:2020-06-28_18-43-28.png)\n",
    "\n",
    "![2020-06-28_18-44-11.png](attachment:2020-06-28_18-44-11.png)"
   ]
  },
  {
   "cell_type": "markdown",
   "metadata": {},
   "source": [
    "We will have to perform the following to have a standard structure:\n",
    "\n",
    "1. Create a folder called \"all_images_dir\".\n",
    "2. Move the images from \"IDC_regular_ps50_idx5 folder\" to \"all_images_dir\". \n",
    "3. Balancing the Dataset\n",
    "4. Create a new folder called \"base_dir\" and train/test sub-folders within \"base_dir\". \n",
    "5. Move the images from \"all_images_dir\" to \"base_dir\". "
   ]
  },
  {
   "cell_type": "markdown",
   "metadata": {},
   "source": [
    "### Create a folder called \"all_images_dir\""
   ]
  },
  {
   "cell_type": "code",
   "execution_count": 3,
   "metadata": {},
   "outputs": [],
   "source": [
    "# Defining the above directory\n",
    "patients = os.listdir(data_dir)"
   ]
  },
  {
   "cell_type": "code",
   "execution_count": 4,
   "metadata": {},
   "outputs": [
    {
     "data": {
      "text/plain": [
       "279"
      ]
     },
     "execution_count": 4,
     "metadata": {},
     "output_type": "execute_result"
    }
   ],
   "source": [
    "# Length of the patients\n",
    "len(patients)"
   ]
  },
  {
   "cell_type": "code",
   "execution_count": 6,
   "metadata": {},
   "outputs": [],
   "source": [
    "# Creating a new master folder\n",
    "all_images_dir = 'all_images_dir'\n",
    "\n",
    "os.mkdir(all_images_dir)"
   ]
  },
  {
   "cell_type": "code",
   "execution_count": 71,
   "metadata": {},
   "outputs": [],
   "source": [
    "# # Creating a folder for non_idc images\n",
    "non_idc = 'non_idc'\n",
    "\n",
    "os.mkdir(non_idc)"
   ]
  },
  {
   "cell_type": "code",
   "execution_count": 73,
   "metadata": {},
   "outputs": [],
   "source": [
    "# Creating a folder for idc images\n",
    "idc = 'idc'\n",
    "\n",
    "os.mkdir(idc)"
   ]
  },
  {
   "cell_type": "code",
   "execution_count": 7,
   "metadata": {
    "scrolled": true
   },
   "outputs": [
    {
     "name": "stdout",
     "output_type": "stream",
     "text": [
      "Capstone Project.ipynb\n",
      "IDC_regular_ps50_idx5\n",
      "all_images_dir\n",
      "idc\n",
      "non_idc\n"
     ]
    }
   ],
   "source": [
    "# Contents in the folder\n",
    "!ls"
   ]
  },
  {
   "cell_type": "markdown",
   "metadata": {},
   "source": [
    "### Move the images from \"IDC_regular_ps50_idx5 folder\" to \"all_images_dir\""
   ]
  },
  {
   "cell_type": "code",
   "execution_count": 8,
   "metadata": {},
   "outputs": [],
   "source": [
    "# Creating a patient list\n",
    "patient_list = os.listdir(data_dir)"
   ]
  },
  {
   "cell_type": "code",
   "execution_count": 9,
   "metadata": {},
   "outputs": [],
   "source": [
    "# Moving all the images to all_images_dir\n",
    "for patient in patient_list:\n",
    "    \n",
    "    path_0 = data_dir + '\\\\' + str(patient) + '\\\\0'\n",
    "    path_1 = data_dir + '\\\\' + str(patient) + '\\\\1'\n",
    "\n",
    "\n",
    "    # create a list of all files in folder 0\n",
    "    file_list_0 = os.listdir(path_0)\n",
    "    # create a list of list all file in folder 1\n",
    "    file_list_1 = os.listdir(path_1)\n",
    "\n",
    "    # move the 0 images to all_images_dir\n",
    "    for fname in file_list_0:\n",
    "\n",
    "        # source path to image\n",
    "        src = os.path.join(path_0, fname)\n",
    "        # destination path to image\n",
    "        dst = os.path.join(all_images_dir, fname)\n",
    "        # copy the image from the source to the destination\n",
    "        shutil.copyfile(src, dst)\n",
    "\n",
    "\n",
    "    # move the 1 images to all_images_dir\n",
    "    for fname in file_list_1:\n",
    "\n",
    "        # source path to image\n",
    "        src = os.path.join(path_1, fname)\n",
    "        # destination path to image\n",
    "        dst = os.path.join(all_images_dir, fname)\n",
    "        # copy the image from the source to the destination\n",
    "        shutil.copyfile(src, dst)"
   ]
  },
  {
   "cell_type": "code",
   "execution_count": 75,
   "metadata": {},
   "outputs": [],
   "source": [
    "# Creating a folder for non-idc images \n",
    "for patient in patient_list:\n",
    "    \n",
    "    path_0 = data_dir + '\\\\' + str(patient) + '\\\\0'\n",
    "    \n",
    "    file_list_0 = os.listdir(path_0)\n",
    "    \n",
    "    for fname in file_list_0:\n",
    "\n",
    "        # source path to image\n",
    "        src = os.path.join(path_0, fname)\n",
    "        # destination path to image\n",
    "        dst = os.path.join(non_idc, fname)\n",
    "        # copy the image from the source to the destination\n",
    "        shutil.copyfile(src, dst)"
   ]
  },
  {
   "cell_type": "code",
   "execution_count": 76,
   "metadata": {},
   "outputs": [],
   "source": [
    "# Creating a folder for idc images \n",
    "for patient in patient_list:\n",
    "    \n",
    "    path_1 = data_dir + '\\\\' + str(patient) + '\\\\1'\n",
    "\n",
    "    # create a list of list all file in folder 1\n",
    "    file_list_1 = os.listdir(path_1)\n",
    "\n",
    "    # move the 1 images to all_images_dir\n",
    "    for fname in file_list_1:\n",
    "\n",
    "        # source path to image\n",
    "        src = os.path.join(path_1, fname)\n",
    "        # destination path to image\n",
    "        dst = os.path.join(idc, fname)\n",
    "        # copy the image from the source to the destination\n",
    "        shutil.copyfile(src, dst)"
   ]
  },
  {
   "cell_type": "code",
   "execution_count": 20,
   "metadata": {},
   "outputs": [
    {
     "data": {
      "text/plain": [
       "198738"
      ]
     },
     "execution_count": 20,
     "metadata": {},
     "output_type": "execute_result"
    }
   ],
   "source": [
    "# Number of images in the non-idc folder\n",
    "len(os.listdir(non_idc))"
   ]
  },
  {
   "cell_type": "code",
   "execution_count": 21,
   "metadata": {},
   "outputs": [
    {
     "data": {
      "text/plain": [
       "78786"
      ]
     },
     "execution_count": 21,
     "metadata": {},
     "output_type": "execute_result"
    }
   ],
   "source": [
    "# Number of images in the idc folder\n",
    "len(os.listdir(idc))"
   ]
  },
  {
   "cell_type": "code",
   "execution_count": 14,
   "metadata": {},
   "outputs": [
    {
     "data": {
      "text/plain": [
       "'10253_idx5_x501_y351_class1.png'"
      ]
     },
     "execution_count": 14,
     "metadata": {},
     "output_type": "execute_result"
    }
   ],
   "source": [
    "# Checking sample filename\n",
    "os.listdir(idc)[0]"
   ]
  },
  {
   "cell_type": "code",
   "execution_count": 16,
   "metadata": {},
   "outputs": [
    {
     "data": {
      "text/plain": [
       "277524"
      ]
     },
     "execution_count": 16,
     "metadata": {},
     "output_type": "execute_result"
    }
   ],
   "source": [
    "# Number of images in the 'all_images_dir'\n",
    "len(os.listdir('all_images_dir'))"
   ]
  },
  {
   "cell_type": "code",
   "execution_count": 17,
   "metadata": {},
   "outputs": [],
   "source": [
    "# Creating a list of images\n",
    "image_list = os.listdir('all_images_dir')"
   ]
  },
  {
   "cell_type": "code",
   "execution_count": 18,
   "metadata": {
    "scrolled": true
   },
   "outputs": [
    {
     "data": {
      "text/plain": [
       "277524"
      ]
     },
     "execution_count": 18,
     "metadata": {},
     "output_type": "execute_result"
    }
   ],
   "source": [
    "# Verify the number of images again\n",
    "len(image_list)"
   ]
  },
  {
   "cell_type": "markdown",
   "metadata": {},
   "source": [
    "Now, let's create a dataframe using image_list. We will use the dataframe for class distribution and creating train/test folders."
   ]
  },
  {
   "cell_type": "code",
   "execution_count": 19,
   "metadata": {},
   "outputs": [],
   "source": [
    "# Creating a dataframe\n",
    "df = pd.DataFrame(image_list, columns = ['image_id'])"
   ]
  },
  {
   "cell_type": "code",
   "execution_count": 20,
   "metadata": {
    "scrolled": true
   },
   "outputs": [
    {
     "data": {
      "text/html": [
       "<div>\n",
       "<style scoped>\n",
       "    .dataframe tbody tr th:only-of-type {\n",
       "        vertical-align: middle;\n",
       "    }\n",
       "\n",
       "    .dataframe tbody tr th {\n",
       "        vertical-align: top;\n",
       "    }\n",
       "\n",
       "    .dataframe thead th {\n",
       "        text-align: right;\n",
       "    }\n",
       "</style>\n",
       "<table border=\"1\" class=\"dataframe\">\n",
       "  <thead>\n",
       "    <tr style=\"text-align: right;\">\n",
       "      <th></th>\n",
       "      <th>image_id</th>\n",
       "    </tr>\n",
       "  </thead>\n",
       "  <tbody>\n",
       "    <tr>\n",
       "      <th>0</th>\n",
       "      <td>10253_idx5_x1001_y1001_class0.png</td>\n",
       "    </tr>\n",
       "    <tr>\n",
       "      <th>1</th>\n",
       "      <td>10253_idx5_x1001_y1051_class0.png</td>\n",
       "    </tr>\n",
       "    <tr>\n",
       "      <th>2</th>\n",
       "      <td>10253_idx5_x1001_y1101_class0.png</td>\n",
       "    </tr>\n",
       "    <tr>\n",
       "      <th>3</th>\n",
       "      <td>10253_idx5_x1001_y1151_class0.png</td>\n",
       "    </tr>\n",
       "    <tr>\n",
       "      <th>4</th>\n",
       "      <td>10253_idx5_x1001_y1201_class0.png</td>\n",
       "    </tr>\n",
       "  </tbody>\n",
       "</table>\n",
       "</div>"
      ],
      "text/plain": [
       "                            image_id\n",
       "0  10253_idx5_x1001_y1001_class0.png\n",
       "1  10253_idx5_x1001_y1051_class0.png\n",
       "2  10253_idx5_x1001_y1101_class0.png\n",
       "3  10253_idx5_x1001_y1151_class0.png\n",
       "4  10253_idx5_x1001_y1201_class0.png"
      ]
     },
     "execution_count": 20,
     "metadata": {},
     "output_type": "execute_result"
    }
   ],
   "source": [
    "# Displaying top 5 rows\n",
    "df.head()"
   ]
  },
  {
   "cell_type": "markdown",
   "metadata": {},
   "source": [
    "We will create 2 helper functions to extract patient id and target class. "
   ]
  },
  {
   "cell_type": "code",
   "execution_count": 21,
   "metadata": {},
   "outputs": [],
   "source": [
    "# Helper Function to extract patient id\n",
    "\n",
    "def extract_patient_id(x):\n",
    "    a = x.split('_')\n",
    "    patient_id = a[0]\n",
    "    return patient_id"
   ]
  },
  {
   "cell_type": "code",
   "execution_count": 22,
   "metadata": {},
   "outputs": [],
   "source": [
    "# Helper Function to create target class \n",
    "\n",
    "def extract_target(x):\n",
    "    a = x.split('_')\n",
    "    b = a[4]\n",
    "    target = b[5]\n",
    "    return target"
   ]
  },
  {
   "cell_type": "code",
   "execution_count": 23,
   "metadata": {},
   "outputs": [],
   "source": [
    "# Applying the above to the dataframe \n",
    "\n",
    "df['patient_id'] = df['image_id'].apply(extract_patient_id)\n",
    "\n",
    "df['target'] = df['image_id'].apply(extract_target)"
   ]
  },
  {
   "cell_type": "code",
   "execution_count": 24,
   "metadata": {},
   "outputs": [
    {
     "data": {
      "text/html": [
       "<div>\n",
       "<style scoped>\n",
       "    .dataframe tbody tr th:only-of-type {\n",
       "        vertical-align: middle;\n",
       "    }\n",
       "\n",
       "    .dataframe tbody tr th {\n",
       "        vertical-align: top;\n",
       "    }\n",
       "\n",
       "    .dataframe thead th {\n",
       "        text-align: right;\n",
       "    }\n",
       "</style>\n",
       "<table border=\"1\" class=\"dataframe\">\n",
       "  <thead>\n",
       "    <tr style=\"text-align: right;\">\n",
       "      <th></th>\n",
       "      <th>image_id</th>\n",
       "      <th>patient_id</th>\n",
       "      <th>target</th>\n",
       "    </tr>\n",
       "  </thead>\n",
       "  <tbody>\n",
       "    <tr>\n",
       "      <th>0</th>\n",
       "      <td>10253_idx5_x1001_y1001_class0.png</td>\n",
       "      <td>10253</td>\n",
       "      <td>0</td>\n",
       "    </tr>\n",
       "    <tr>\n",
       "      <th>1</th>\n",
       "      <td>10253_idx5_x1001_y1051_class0.png</td>\n",
       "      <td>10253</td>\n",
       "      <td>0</td>\n",
       "    </tr>\n",
       "    <tr>\n",
       "      <th>2</th>\n",
       "      <td>10253_idx5_x1001_y1101_class0.png</td>\n",
       "      <td>10253</td>\n",
       "      <td>0</td>\n",
       "    </tr>\n",
       "    <tr>\n",
       "      <th>3</th>\n",
       "      <td>10253_idx5_x1001_y1151_class0.png</td>\n",
       "      <td>10253</td>\n",
       "      <td>0</td>\n",
       "    </tr>\n",
       "    <tr>\n",
       "      <th>4</th>\n",
       "      <td>10253_idx5_x1001_y1201_class0.png</td>\n",
       "      <td>10253</td>\n",
       "      <td>0</td>\n",
       "    </tr>\n",
       "  </tbody>\n",
       "</table>\n",
       "</div>"
      ],
      "text/plain": [
       "                            image_id patient_id target\n",
       "0  10253_idx5_x1001_y1001_class0.png      10253      0\n",
       "1  10253_idx5_x1001_y1051_class0.png      10253      0\n",
       "2  10253_idx5_x1001_y1101_class0.png      10253      0\n",
       "3  10253_idx5_x1001_y1151_class0.png      10253      0\n",
       "4  10253_idx5_x1001_y1201_class0.png      10253      0"
      ]
     },
     "execution_count": 24,
     "metadata": {},
     "output_type": "execute_result"
    }
   ],
   "source": [
    "# Displaying the updated dataframe\n",
    "df.head()"
   ]
  },
  {
   "cell_type": "code",
   "execution_count": 25,
   "metadata": {},
   "outputs": [
    {
     "data": {
      "text/plain": [
       "(277524, 3)"
      ]
     },
     "execution_count": 25,
     "metadata": {},
     "output_type": "execute_result"
    }
   ],
   "source": [
    "# Let's check the shape of the dataframe\n",
    "df.shape"
   ]
  },
  {
   "cell_type": "code",
   "execution_count": 26,
   "metadata": {},
   "outputs": [],
   "source": [
    "# Import cv2\n",
    "import cv2"
   ]
  },
  {
   "cell_type": "code",
   "execution_count": 28,
   "metadata": {},
   "outputs": [],
   "source": [
    "# Let's create a function to display images in the all_images_dir folder\n",
    "def draw_category_images(col_name,figure_cols, df, IMAGE_PATH):\n",
    "     categories = (df.groupby([col_name])[col_name].nunique()).index\n",
    "     f, ax = plt.subplots(nrows=len(categories),ncols=figure_cols, \n",
    "                         figsize=(4*figure_cols,4*len(categories))) # adjust size here\n",
    "    # draw a number of images for each location\n",
    "     for i, cat in enumerate(categories):\n",
    "        sample = df[df[col_name]==cat].sample(figure_cols) # figure_cols is also the sample size\n",
    "        for j in range(0,figure_cols):\n",
    "            file=IMAGE_PATH + sample.iloc[j]['image_id']\n",
    "            im=cv2.imread(file)\n",
    "            ax[i, j].imshow(im, resample=True, cmap='gray')\n",
    "            ax[i, j].set_title(cat, fontsize=16)  \n",
    "     plt.tight_layout()\n",
    "     plt.show()"
   ]
  },
  {
   "cell_type": "code",
   "execution_count": 29,
   "metadata": {},
   "outputs": [
    {
     "data": {
      "image/png": "[encoded data removed]",
      "text/plain": [
       "<Figure size 1152x576 with 8 Axes>"
      ]
     },
     "metadata": {
      "needs_background": "light"
     },
     "output_type": "display_data"
    }
   ],
   "source": [
    "# Visualization\n",
    "image_path = 'all_images_dir/'\n",
    "\n",
    "draw_category_images('target',4, df, image_path)"
   ]
  },
  {
   "cell_type": "markdown",
   "metadata": {},
   "source": [
    "### Balancing the Dataset"
   ]
  },
  {
   "cell_type": "markdown",
   "metadata": {},
   "source": [
    "Let's start with checking the class distribution. "
   ]
  },
  {
   "cell_type": "code",
   "execution_count": 30,
   "metadata": {
    "scrolled": true
   },
   "outputs": [
    {
     "data": {
      "text/plain": [
       "0    198738\n",
       "1     78786\n",
       "Name: target, dtype: int64"
      ]
     },
     "execution_count": 30,
     "metadata": {},
     "output_type": "execute_result"
    }
   ],
   "source": [
    "# Let's check the class distribution\n",
    "df['target'].value_counts()"
   ]
  },
  {
   "cell_type": "markdown",
   "metadata": {},
   "source": [
    "We will now perform undersampling to match the size of minority class i.e. 78786. "
   ]
  },
  {
   "cell_type": "code",
   "execution_count": 31,
   "metadata": {},
   "outputs": [],
   "source": [
    "# Sample of the majority class\n",
    "\n",
    "df_0 = df[df['target'] == '0'].sample(78786, random_state = 101)"
   ]
  },
  {
   "cell_type": "code",
   "execution_count": 32,
   "metadata": {},
   "outputs": [],
   "source": [
    "# Sample of the minority class\n",
    "\n",
    "df_1 = df[df['target'] == '1'].sample(78786, random_state = 101)"
   ]
  },
  {
   "cell_type": "code",
   "execution_count": 33,
   "metadata": {},
   "outputs": [],
   "source": [
    "# Concatenate the 2 dataframes\n",
    "\n",
    "df = pd.concat([df_0, df_1], axis = 0).reset_index(drop = True)"
   ]
  },
  {
   "cell_type": "code",
   "execution_count": 34,
   "metadata": {},
   "outputs": [
    {
     "data": {
      "text/plain": [
       "0    78786\n",
       "1    78786\n",
       "Name: target, dtype: int64"
      ]
     },
     "execution_count": 34,
     "metadata": {},
     "output_type": "execute_result"
    }
   ],
   "source": [
    "# Let's check the class distribution again\n",
    "\n",
    "df['target'].value_counts()"
   ]
  },
  {
   "cell_type": "code",
   "execution_count": 35,
   "metadata": {},
   "outputs": [],
   "source": [
    "# Creating Train and Test sets\n",
    "\n",
    "y = df['target']\n",
    "\n",
    "df_train, df_test = train_test_split(df, test_size = 0.10, random_state = 101, stratify = y)"
   ]
  },
  {
   "cell_type": "code",
   "execution_count": 36,
   "metadata": {},
   "outputs": [
    {
     "name": "stdout",
     "output_type": "stream",
     "text": [
      "(141814, 3)\n"
     ]
    }
   ],
   "source": [
    "print(df_train.shape)"
   ]
  },
  {
   "cell_type": "code",
   "execution_count": 37,
   "metadata": {},
   "outputs": [
    {
     "name": "stdout",
     "output_type": "stream",
     "text": [
      "(15758, 3)\n"
     ]
    }
   ],
   "source": [
    "print(df_test.shape)"
   ]
  },
  {
   "cell_type": "markdown",
   "metadata": {},
   "source": [
    "### Create a new folder called \"base_dir\" and train/test sub-folders within \"base_dir\""
   ]
  },
  {
   "cell_type": "code",
   "execution_count": 38,
   "metadata": {},
   "outputs": [],
   "source": [
    "# Creating base_dir\n",
    "base_dir = 'base_dir'\n",
    "os.mkdir(base_dir)"
   ]
  },
  {
   "cell_type": "code",
   "execution_count": 39,
   "metadata": {},
   "outputs": [],
   "source": [
    "# Creating Train folder\n",
    "train = os.path.join(base_dir, 'train')\n",
    "os.mkdir(train)"
   ]
  },
  {
   "cell_type": "code",
   "execution_count": 40,
   "metadata": {},
   "outputs": [],
   "source": [
    "# Creating Test folder\n",
    "test = os.path.join(base_dir, 'test')\n",
    "os.mkdir(test)"
   ]
  },
  {
   "cell_type": "code",
   "execution_count": 41,
   "metadata": {},
   "outputs": [],
   "source": [
    "# Creating new folders inside train\n",
    "no_idc = os.path.join(train, 'no_idc')\n",
    "os.mkdir(no_idc)\n",
    "\n",
    "idc = os.path.join(train, 'idc')\n",
    "os.mkdir(idc)"
   ]
  },
  {
   "cell_type": "code",
   "execution_count": 42,
   "metadata": {},
   "outputs": [],
   "source": [
    "# Creating new folders inside test\n",
    "no_idc = os.path.join(test, 'no_idc')\n",
    "os.mkdir(no_idc)\n",
    "\n",
    "idc = os.path.join(test, 'idc')\n",
    "os.mkdir(idc)"
   ]
  },
  {
   "cell_type": "code",
   "execution_count": 43,
   "metadata": {},
   "outputs": [
    {
     "data": {
      "text/plain": [
       "['idc', 'no_idc']"
      ]
     },
     "execution_count": 43,
     "metadata": {},
     "output_type": "execute_result"
    }
   ],
   "source": [
    "# Checking\n",
    "\n",
    "os.listdir('base_dir/train')"
   ]
  },
  {
   "cell_type": "code",
   "execution_count": 44,
   "metadata": {},
   "outputs": [
    {
     "data": {
      "text/plain": [
       "['idc', 'no_idc']"
      ]
     },
     "execution_count": 44,
     "metadata": {},
     "output_type": "execute_result"
    }
   ],
   "source": [
    "# Checking\n",
    "\n",
    "os.listdir('base_dir/test')"
   ]
  },
  {
   "cell_type": "markdown",
   "metadata": {},
   "source": [
    "### Transferring the images into the folders"
   ]
  },
  {
   "cell_type": "code",
   "execution_count": 45,
   "metadata": {},
   "outputs": [],
   "source": [
    "df.set_index('image_id', inplace=True)"
   ]
  },
  {
   "cell_type": "code",
   "execution_count": 46,
   "metadata": {},
   "outputs": [],
   "source": [
    "# Get a list of train and test images\n",
    "\n",
    "train_list = list(df_train['image_id'])\n",
    "test_list = list(df_test['image_id'])"
   ]
  },
  {
   "cell_type": "code",
   "execution_count": 47,
   "metadata": {},
   "outputs": [],
   "source": [
    "# Transferring the images\n",
    "\n",
    "for image in train_list:\n",
    "    fname = image\n",
    "    target = df.loc[image, 'target']\n",
    "    \n",
    "    if target == '0':\n",
    "        label = 'no_idc'\n",
    "    if target == '1':\n",
    "        label = 'idc'\n",
    "        \n",
    "    # Source path to image\n",
    "    src = os.path.join(all_images_dir, fname)\n",
    "    \n",
    "    # Destination path to image\n",
    "    dst = os.path.join(train, label, fname)\n",
    "    \n",
    "    #move the images from the source to destination\n",
    "    shutil.move(src, dst)\n",
    "\n",
    "# Transferring the images\n",
    "\n",
    "for image in test_list:\n",
    "    fname = image\n",
    "    target = df.loc[image, 'target']\n",
    "    \n",
    "    if target == '0':\n",
    "        label = 'no_idc'\n",
    "    if target == '1':\n",
    "        label = 'idc'\n",
    "        \n",
    "    # Source path to image\n",
    "    src = os.path.join(all_images_dir, fname)\n",
    "    \n",
    "    # Destination path to image\n",
    "    dst = os.path.join(test, label, fname)\n",
    "    \n",
    "    #move the images from the source to destination\n",
    "    shutil.move(src, dst)"
   ]
  },
  {
   "cell_type": "code",
   "execution_count": 48,
   "metadata": {},
   "outputs": [
    {
     "name": "stdout",
     "output_type": "stream",
     "text": [
      "Capstone Project.ipynb\n",
      "IDC_regular_ps50_idx5\n",
      "all_images_dir\n",
      "base_dir\n",
      "idc\n",
      "non_idc\n"
     ]
    }
   ],
   "source": [
    "# Checking the contents in the directory. \n",
    "\n",
    "!ls"
   ]
  },
  {
   "cell_type": "markdown",
   "metadata": {},
   "source": [
    "Now that data is all set up, we are done with data acquisition and we will proceed to the next steps in the process.\n",
    "\n",
    "Remaining steps will be continued in a new notebook (Part 2 - IDC Classification - CNN). "
   ]
  },
  {
   "cell_type": "markdown",
   "metadata": {},
   "source": [
    "                                                                                            To be continued.."
   ]
  },
  {
   "cell_type": "markdown",
   "metadata": {},
   "source": [
    "                                                                                            Vaishnav Gowni"
   ]
  }
 ],
 "metadata": {
  "kernelspec": {
   "display_name": "Python 3",
   "language": "python",
   "name": "python3"
  },
  "language_info": {
   "codemirror_mode": {
    "name": "ipython",
    "version": 3
   },
   "file_extension": ".py",
   "mimetype": "text/x-python",
   "name": "python",
   "nbconvert_exporter": "python",
   "pygments_lexer": "ipython3",
   "version": "3.7.6"
  }
 },
 "nbformat": 4,
 "nbformat_minor": 4
}
